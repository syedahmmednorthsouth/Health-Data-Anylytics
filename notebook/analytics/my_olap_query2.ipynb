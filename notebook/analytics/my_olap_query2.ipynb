{
 "cells": [
  {
   "cell_type": "code",
   "execution_count": 1,
   "metadata": {},
   "outputs": [],
   "source": [
    "import psycopg2\n",
    "import pandas as pd\n",
    "import psycopg2.extras\n",
    "import matplotlib as plt"
   ]
  },
  {
   "cell_type": "code",
   "execution_count": 2,
   "metadata": {},
   "outputs": [],
   "source": [
    "class PostgresConnection(object):\n",
    "    def __init__(self):\n",
    "        self.connection = psycopg2.connect(database=\"ecomdb1\",\n",
    "                                           user = \"postgres\",\n",
    "                                           password = \"12345\",\n",
    "                                           host = \"127.0.0.1\",\n",
    "                                           port = \"5432\")\n",
    "\n",
    "    def getConnection(self):\n",
    "        print(\"successfully connected to database\")\n",
    "        return self.connection"
   ]
  },
  {
   "cell_type": "code",
   "execution_count": 3,
   "metadata": {},
   "outputs": [
    {
     "name": "stdout",
     "output_type": "stream",
     "text": [
      "successfully connected to database\n"
     ]
    }
   ],
   "source": [
    "con = PostgresConnection().getConnection()"
   ]
  }
 ],
 "metadata": {
  "kernelspec": {
   "display_name": "Python 3 (ipykernel)",
   "language": "python",
   "name": "python3"
  },
  "language_info": {
   "codemirror_mode": {
    "name": "ipython",
    "version": 3
   },
   "file_extension": ".py",
   "mimetype": "text/x-python",
   "name": "python",
   "nbconvert_exporter": "python",
   "pygments_lexer": "ipython3",
   "version": "3.8.10"
  },
  "orig_nbformat": 4
 },
 "nbformat": 4,
 "nbformat_minor": 2
}
