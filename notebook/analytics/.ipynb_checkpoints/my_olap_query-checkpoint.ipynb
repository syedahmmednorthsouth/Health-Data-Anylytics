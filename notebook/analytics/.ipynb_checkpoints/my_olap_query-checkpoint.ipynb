{
 "cells": [
  {
   "cell_type": "markdown",
   "metadata": {},
   "source": [
    "### POSTGRESQL CONNECTION\n"
   ]
  },
  {
   "cell_type": "code",
   "execution_count": 1,
   "metadata": {},
   "outputs": [],
   "source": [
    "import psycopg2\n",
    "import pandas as pd\n",
    "import psycopg2.extras\n"
   ]
  },
  {
   "cell_type": "code",
   "execution_count": 2,
   "metadata": {},
   "outputs": [],
   "source": [
    "class PostgresConnection(object):\n",
    "    def __init__(self):\n",
    "        self.connection = psycopg2.connect(database=\"ecomdb1\",\n",
    "                                           user = \"postgres\",\n",
    "                                           password = \"12345\",\n",
    "                                           host = \"127.0.0.1\",\n",
    "                                           port = \"5432\")\n",
    "\n",
    "    def getConnection(self):\n",
    "        print(\"successfully connected to database\")\n",
    "        return self.connection"
   ]
  },
  {
   "cell_type": "code",
   "execution_count": 3,
   "metadata": {},
   "outputs": [
    {
     "name": "stdout",
     "output_type": "stream",
     "text": [
      "successfully connected to database\n"
     ]
    }
   ],
   "source": [
    "con = PostgresConnection().getConnection()"
   ]
  },
  {
   "cell_type": "code",
   "execution_count": 5,
   "metadata": {},
   "outputs": [
    {
     "ename": "SyntaxError",
     "evalue": "syntax error at or near \"ecomdb_star_schema\"\nLINE 1: ...RECISION))FROM ecomdb_star_schema.fact_data tJOIN ecomdb_sta...\n                                                             ^\n",
     "output_type": "error",
     "traceback": [
      "\u001b[1;31m---------------------------------------------------------------------------\u001b[0m",
      "\u001b[1;31mSyntaxError\u001b[0m                               Traceback (most recent call last)",
      "Input \u001b[1;32mIn [5]\u001b[0m, in \u001b[0;36m<module>\u001b[1;34m\u001b[0m\n\u001b[0;32m      1\u001b[0m cur \u001b[38;5;241m=\u001b[39m con\u001b[38;5;241m.\u001b[39mcursor()\n\u001b[0;32m      2\u001b[0m select_stmt \u001b[38;5;241m=\u001b[39m \u001b[38;5;124m'\u001b[39m\u001b[38;5;124mSELECT  s.division , SUM(CAST(t.total_price AS DOUBLE PRECISION))\u001b[39m\u001b[38;5;124m'\u001b[39m\\\n\u001b[0;32m      3\u001b[0m \u001b[38;5;124m'\u001b[39m\u001b[38;5;124mFROM ecomdb_star_schema.fact_data t\u001b[39m\u001b[38;5;124m'\u001b[39m\\\n\u001b[0;32m      4\u001b[0m \u001b[38;5;124m'\u001b[39m\u001b[38;5;124mJOIN ecomdb_star_schema.store_dim s ON s.store_key = t.store_key\u001b[39m\u001b[38;5;124m'\u001b[39m\\\n\u001b[1;32m   (...)\u001b[0m\n\u001b[0;32m      7\u001b[0m \u001b[38;5;124m'\u001b[39m\u001b[38;5;124mGROUP BY s.division\u001b[39m\u001b[38;5;124m'\u001b[39m\\\n\u001b[0;32m      8\u001b[0m \u001b[38;5;124m'\u001b[39m\u001b[38;5;124mORDER BY s.division\u001b[39m\u001b[38;5;124m'\u001b[39m\n\u001b[1;32m---> 10\u001b[0m \u001b[43mcur\u001b[49m\u001b[38;5;241;43m.\u001b[39;49m\u001b[43mexecute\u001b[49m\u001b[43m(\u001b[49m\u001b[43mselect_stmt\u001b[49m\u001b[43m)\u001b[49m\n\u001b[0;32m     11\u001b[0m records \u001b[38;5;241m=\u001b[39m cur\u001b[38;5;241m.\u001b[39mfetchall()\n\u001b[0;32m     12\u001b[0m records\n",
      "\u001b[1;31mSyntaxError\u001b[0m: syntax error at or near \"ecomdb_star_schema\"\nLINE 1: ...RECISION))FROM ecomdb_star_schema.fact_data tJOIN ecomdb_sta...\n                                                             ^\n"
     ]
    }
   ],
   "source": [
    "cur = con.cursor()\n",
    "select_stmt = 'SELECT  s.division , SUM(CAST(t.total_price AS DOUBLE PRECISION))'\\\n",
    "'FROM ecomdb_star_schema.fact_data t'\\\n",
    "'JOIN ecomdb_star_schema.store_dim s ON s.store_key = t.store_key'\\\n",
    "'JOIN ecomdb_star_schema.time_dim time ON  time.time_key = t.time_key'\\\n",
    "'WHERE CAST(time.month AS INTEGER)=12'\\\n",
    "'GROUP BY s.division'\\\n",
    "'ORDER BY s.division'\n",
    "\n",
    "cur.execute(select_stmt)\n",
    "records = cur.fetchall()\n",
    "records"
   ]
  },
  {
   "cell_type": "code",
   "execution_count": 32,
   "metadata": {},
   "outputs": [
    {
     "ename": "NameError",
     "evalue": "name 'records' is not defined",
     "output_type": "error",
     "traceback": [
      "\u001b[1;31m---------------------------------------------------------------------------\u001b[0m",
      "\u001b[1;31mNameError\u001b[0m                                 Traceback (most recent call last)",
      "\u001b[1;32md:\\My New Project Workplace\\HDA-TECH-LEARNING\\HDA-Tech-Learning\\notebook\\analytics\\my_olap_query.ipynb Cell 6'\u001b[0m in \u001b[0;36m<module>\u001b[1;34m\u001b[0m\n\u001b[1;32m----> <a href='vscode-notebook-cell:/d%3A/My%20New%20Project%20Workplace/HDA-TECH-LEARNING/HDA-Tech-Learning/notebook/analytics/my_olap_query.ipynb#ch0000006?line=0'>1</a>\u001b[0m df \u001b[39m=\u001b[39m pd\u001b[39m.\u001b[39mDataFrame(\u001b[39mlist\u001b[39m(records), columns\u001b[39m=\u001b[39m[\u001b[39m'\u001b[39m\u001b[39mdivision\u001b[39m\u001b[39m'\u001b[39m, \u001b[39m'\u001b[39m\u001b[39msales\u001b[39m\u001b[39m'\u001b[39m])\n",
      "\u001b[1;31mNameError\u001b[0m: name 'records' is not defined"
     ]
    }
   ],
   "source": [
    "df = pd.DataFrame(list(records), columns=['division', 'sales'])"
   ]
  }
 ],
 "metadata": {
  "kernelspec": {
   "display_name": "Python 3 (ipykernel)",
   "language": "python",
   "name": "python3"
  },
  "language_info": {
   "codemirror_mode": {
    "name": "ipython",
    "version": 3
   },
   "file_extension": ".py",
   "mimetype": "text/x-python",
   "name": "python",
   "nbconvert_exporter": "python",
   "pygments_lexer": "ipython3",
   "version": "3.8.10"
  }
 },
 "nbformat": 4,
 "nbformat_minor": 2
}
